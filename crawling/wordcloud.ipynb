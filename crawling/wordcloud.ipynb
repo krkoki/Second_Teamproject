{
 "cells": [
  {
   "attachments": {},
   "cell_type": "markdown",
   "metadata": {},
   "source": [
    "### 1. 데이터 불러오기"
   ]
  },
  {
   "cell_type": "code",
   "execution_count": 1,
   "metadata": {},
   "outputs": [
    {
     "data": {
      "text/html": [
       "<div>\n",
       "<style scoped>\n",
       "    .dataframe tbody tr th:only-of-type {\n",
       "        vertical-align: middle;\n",
       "    }\n",
       "\n",
       "    .dataframe tbody tr th {\n",
       "        vertical-align: top;\n",
       "    }\n",
       "\n",
       "    .dataframe thead th {\n",
       "        text-align: right;\n",
       "    }\n",
       "</style>\n",
       "<table border=\"1\" class=\"dataframe\">\n",
       "  <thead>\n",
       "    <tr style=\"text-align: right;\">\n",
       "      <th></th>\n",
       "      <th>실제평점</th>\n",
       "      <th>리뷰</th>\n",
       "      <th>영화ID</th>\n",
       "      <th>영화명</th>\n",
       "      <th>평균평점</th>\n",
       "    </tr>\n",
       "  </thead>\n",
       "  <tbody>\n",
       "    <tr>\n",
       "      <th>0</th>\n",
       "      <td>10.0</td>\n",
       "      <td>이 영화의 속편은 100% 성공이다. 원래 한국영화들 속편은 잘 안되고 속편 나오면...</td>\n",
       "      <td>0</td>\n",
       "      <td>범죄도시2</td>\n",
       "      <td>8.99</td>\n",
       "    </tr>\n",
       "    <tr>\n",
       "      <th>1</th>\n",
       "      <td>10.0</td>\n",
       "      <td>진짜 재미있어요잔인한 거 잘 못 보는데 충분히 볼 수 있구요. 유머도 내 스타일이라...</td>\n",
       "      <td>0</td>\n",
       "      <td>범죄도시2</td>\n",
       "      <td>8.99</td>\n",
       "    </tr>\n",
       "    <tr>\n",
       "      <th>2</th>\n",
       "      <td>10.0</td>\n",
       "      <td>넘  재밌어요 시원시원하고 계속 시리즈로 나왔으면 좋겠어요. 나쁜놈들 잡는 캐릭터로...</td>\n",
       "      <td>0</td>\n",
       "      <td>범죄도시2</td>\n",
       "      <td>8.99</td>\n",
       "    </tr>\n",
       "    <tr>\n",
       "      <th>3</th>\n",
       "      <td>10.0</td>\n",
       "      <td>솔직하게 장첸보다 강해상이 더 강해보인다</td>\n",
       "      <td>0</td>\n",
       "      <td>범죄도시2</td>\n",
       "      <td>8.99</td>\n",
       "    </tr>\n",
       "    <tr>\n",
       "      <th>4</th>\n",
       "      <td>10.0</td>\n",
       "      <td>범죄도시 1편도 2편도 다 악역배우 연기가 진짜 미쳤다 ㅠㅠㅠ 마동석 배우 액션도 ...</td>\n",
       "      <td>0</td>\n",
       "      <td>범죄도시2</td>\n",
       "      <td>8.99</td>\n",
       "    </tr>\n",
       "  </tbody>\n",
       "</table>\n",
       "</div>"
      ],
      "text/plain": [
       "   실제평점                                                 리뷰  영화ID    영화명  평균평점\n",
       "0  10.0  이 영화의 속편은 100% 성공이다. 원래 한국영화들 속편은 잘 안되고 속편 나오면...     0  범죄도시2  8.99\n",
       "1  10.0  진짜 재미있어요잔인한 거 잘 못 보는데 충분히 볼 수 있구요. 유머도 내 스타일이라...     0  범죄도시2  8.99\n",
       "2  10.0  넘  재밌어요 시원시원하고 계속 시리즈로 나왔으면 좋겠어요. 나쁜놈들 잡는 캐릭터로...     0  범죄도시2  8.99\n",
       "3  10.0                             솔직하게 장첸보다 강해상이 더 강해보인다     0  범죄도시2  8.99\n",
       "4  10.0  범죄도시 1편도 2편도 다 악역배우 연기가 진짜 미쳤다 ㅠㅠㅠ 마동석 배우 액션도 ...     0  범죄도시2  8.99"
      ]
     },
     "execution_count": 1,
     "metadata": {},
     "output_type": "execute_result"
    }
   ],
   "source": [
    "import pandas as pd\n",
    "\n",
    "df1 = pd.read_csv(\"../data/review-rating1.csv\")\n",
    "df2 = pd.read_csv(\"../data/review-rating2.csv\")\n",
    "df3 = pd.read_csv(\"../data/review-rating3.csv\")\n",
    "df4 = pd.read_csv(\"../data/review-rating4.csv\")\n",
    "\n",
    "df = pd.concat([df1, df2, df3, df4])\n",
    "df.head()"
   ]
  },
  {
   "attachments": {},
   "cell_type": "markdown",
   "metadata": {},
   "source": [
    "### 2. 전처리"
   ]
  },
  {
   "cell_type": "code",
   "execution_count": 2,
   "metadata": {},
   "outputs": [
    {
     "name": "stderr",
     "output_type": "stream",
     "text": [
      "C:\\Users\\gram15\\AppData\\Local\\Temp\\ipykernel_8924\\2647383859.py:2: FutureWarning: The default value of regex will change from True to False in a future version.\n",
      "  df['리뷰'] = df['리뷰'].str.replace(\"[^ㄱ-ㅎㅏ-ㅣ가-힣 ]\",\"\")\n"
     ]
    },
    {
     "data": {
      "text/html": [
       "<div>\n",
       "<style scoped>\n",
       "    .dataframe tbody tr th:only-of-type {\n",
       "        vertical-align: middle;\n",
       "    }\n",
       "\n",
       "    .dataframe tbody tr th {\n",
       "        vertical-align: top;\n",
       "    }\n",
       "\n",
       "    .dataframe thead th {\n",
       "        text-align: right;\n",
       "    }\n",
       "</style>\n",
       "<table border=\"1\" class=\"dataframe\">\n",
       "  <thead>\n",
       "    <tr style=\"text-align: right;\">\n",
       "      <th></th>\n",
       "      <th>실제평점</th>\n",
       "      <th>리뷰</th>\n",
       "      <th>영화ID</th>\n",
       "      <th>영화명</th>\n",
       "      <th>평균평점</th>\n",
       "    </tr>\n",
       "  </thead>\n",
       "  <tbody>\n",
       "    <tr>\n",
       "      <th>0</th>\n",
       "      <td>10.0</td>\n",
       "      <td>이 영화의 속편은  성공이다 원래 한국영화들 속편은 잘 안되고 속편 나오면 망하는 ...</td>\n",
       "      <td>0</td>\n",
       "      <td>범죄도시2</td>\n",
       "      <td>8.99</td>\n",
       "    </tr>\n",
       "    <tr>\n",
       "      <th>1</th>\n",
       "      <td>10.0</td>\n",
       "      <td>진짜 재미있어요잔인한 거 잘 못 보는데 충분히 볼 수 있구요 유머도 내 스타일이라 ...</td>\n",
       "      <td>0</td>\n",
       "      <td>범죄도시2</td>\n",
       "      <td>8.99</td>\n",
       "    </tr>\n",
       "    <tr>\n",
       "      <th>2</th>\n",
       "      <td>10.0</td>\n",
       "      <td>넘  재밌어요 시원시원하고 계속 시리즈로 나왔으면 좋겠어요 나쁜놈들 잡는 캐릭터로는...</td>\n",
       "      <td>0</td>\n",
       "      <td>범죄도시2</td>\n",
       "      <td>8.99</td>\n",
       "    </tr>\n",
       "    <tr>\n",
       "      <th>3</th>\n",
       "      <td>10.0</td>\n",
       "      <td>솔직하게 장첸보다 강해상이 더 강해보인다</td>\n",
       "      <td>0</td>\n",
       "      <td>범죄도시2</td>\n",
       "      <td>8.99</td>\n",
       "    </tr>\n",
       "    <tr>\n",
       "      <th>4</th>\n",
       "      <td>10.0</td>\n",
       "      <td>범죄도시 편도 편도 다 악역배우 연기가 진짜 미쳤다 ㅠㅠㅠ 마동석 배우 액션도 진짜...</td>\n",
       "      <td>0</td>\n",
       "      <td>범죄도시2</td>\n",
       "      <td>8.99</td>\n",
       "    </tr>\n",
       "  </tbody>\n",
       "</table>\n",
       "</div>"
      ],
      "text/plain": [
       "   실제평점                                                 리뷰  영화ID    영화명  평균평점\n",
       "0  10.0  이 영화의 속편은  성공이다 원래 한국영화들 속편은 잘 안되고 속편 나오면 망하는 ...     0  범죄도시2  8.99\n",
       "1  10.0  진짜 재미있어요잔인한 거 잘 못 보는데 충분히 볼 수 있구요 유머도 내 스타일이라 ...     0  범죄도시2  8.99\n",
       "2  10.0  넘  재밌어요 시원시원하고 계속 시리즈로 나왔으면 좋겠어요 나쁜놈들 잡는 캐릭터로는...     0  범죄도시2  8.99\n",
       "3  10.0                             솔직하게 장첸보다 강해상이 더 강해보인다     0  범죄도시2  8.99\n",
       "4  10.0  범죄도시 편도 편도 다 악역배우 연기가 진짜 미쳤다 ㅠㅠㅠ 마동석 배우 액션도 진짜...     0  범죄도시2  8.99"
      ]
     },
     "execution_count": 2,
     "metadata": {},
     "output_type": "execute_result"
    }
   ],
   "source": [
    "# 특수문자,기호 제거\n",
    "df['리뷰'] = df['리뷰'].str.replace(\"[^ㄱ-ㅎㅏ-ㅣ가-힣 ]\",\"\")\n",
    "df[:5]"
   ]
  },
  {
   "cell_type": "code",
   "execution_count": 3,
   "metadata": {},
   "outputs": [
    {
     "name": "stderr",
     "output_type": "stream",
     "text": [
      "C:\\Users\\gram15\\AppData\\Local\\Temp\\ipykernel_8924\\4057912268.py:4: FutureWarning: The default value of regex will change from True to False in a future version.\n",
      "  df['리뷰'] = df['리뷰'].str.replace('^ +', \"\")\n"
     ]
    },
    {
     "data": {
      "text/plain": [
       "실제평점       0\n",
       "리뷰      6690\n",
       "영화ID       0\n",
       "영화명        0\n",
       "평균평점       0\n",
       "dtype: int64"
      ]
     },
     "execution_count": 3,
     "metadata": {},
     "output_type": "execute_result"
    }
   ],
   "source": [
    "# 공백 제거\n",
    "import numpy as np\n",
    "\n",
    "df['리뷰'] = df['리뷰'].str.replace('^ +', \"\")\n",
    "df['리뷰'].replace('', np.nan, inplace=True)\n",
    "df.isnull().sum()"
   ]
  },
  {
   "cell_type": "code",
   "execution_count": 4,
   "metadata": {},
   "outputs": [
    {
     "data": {
      "text/plain": [
       "1177159"
      ]
     },
     "execution_count": 4,
     "metadata": {},
     "output_type": "execute_result"
    }
   ],
   "source": [
    "# null 샘플 제거\n",
    "df = df.dropna(how = 'any')\n",
    "len(df)"
   ]
  },
  {
   "cell_type": "code",
   "execution_count": 5,
   "metadata": {},
   "outputs": [
    {
     "data": {
      "text/plain": [
       "[['휴'],\n",
       " ['아이구'],\n",
       " ['아이쿠'],\n",
       " ['아이고'],\n",
       " ['어'],\n",
       " ['나'],\n",
       " ['우리'],\n",
       " ['저희'],\n",
       " ['따라'],\n",
       " ['의해']]"
      ]
     },
     "execution_count": 5,
     "metadata": {},
     "output_type": "execute_result"
    }
   ],
   "source": [
    "# 불용어 사전\n",
    "stopwords = pd.read_csv(\"https://raw.githubusercontent.com/yoonkt200/FastCampusDataset/master/korean_stopwords.txt\").values.tolist()\n",
    "stopwords[:10]"
   ]
  },
  {
   "cell_type": "code",
   "execution_count": 6,
   "metadata": {},
   "outputs": [],
   "source": [
    "# 불용어 추가\n",
    "add_stopwords = ['ㅠ', 'ㅠㅠ', 'ㅠㅠㅠ', 'ㅋ', 'ㅋㅋ', 'ㅋㅋㅋ', '수', '편', '더', '오', '손', '구']\n",
    "for word in add_stopwords:\n",
    "    stopwords.append(word)"
   ]
  },
  {
   "cell_type": "code",
   "execution_count": 11,
   "metadata": {},
   "outputs": [
    {
     "name": "stderr",
     "output_type": "stream",
     "text": [
      "100%|██████████| 1177159/1177159 [1:17:52<00:00, 251.93it/s]\n"
     ]
    }
   ],
   "source": [
    "from tqdm import tqdm\n",
    "from konlpy.tag import Okt\n",
    "from wordcloud import WordCloud\n",
    "\n",
    "okt = Okt()\n",
    "df = df['리뷰']\n",
    "word_list = []\n",
    "\n",
    "for sentence in tqdm(df):\n",
    "    words = okt.nouns(sentence)\n",
    "    words = [word for word in words if not word in stopwords]\n",
    "    word_list.append(words)"
   ]
  },
  {
   "cell_type": "code",
   "execution_count": 16,
   "metadata": {},
   "outputs": [
    {
     "name": "stderr",
     "output_type": "stream",
     "text": [
      "100%|██████████| 1177159/1177159 [00:00<00:00, 1448782.17it/s]\n"
     ]
    }
   ],
   "source": [
    "word_lis = []\n",
    "\n",
    "for words in tqdm(word_list):\n",
    "    for w in words:\n",
    "        word_lis.append(w)"
   ]
  },
  {
   "cell_type": "code",
   "execution_count": 19,
   "metadata": {},
   "outputs": [
    {
     "name": "stdout",
     "output_type": "stream",
     "text": [
      "단어수 :  8729593\n",
      "단어수 :  95272\n"
     ]
    }
   ],
   "source": [
    "print('단어수 : ', len(word_lis))\n",
    "word_set = set(word_lis)\n",
    "print('단어수 : ', len(word_set))"
   ]
  },
  {
   "cell_type": "code",
   "execution_count": 37,
   "metadata": {},
   "outputs": [],
   "source": [
    "# 단어목록 중간저장\n",
    "import csv\n",
    "with open('../data/word_set.csv', 'w', newline='') as f:\n",
    "    writer = csv.writer(f)\n",
    "    writer.writerow(word_set)\n",
    "\n",
    "with open('../data/word_lis.csv', 'w', newline='') as f:\n",
    "    writer = csv.writer(f)\n",
    "    writer.writerow(word_lis)"
   ]
  },
  {
   "cell_type": "code",
   "execution_count": 47,
   "metadata": {},
   "outputs": [],
   "source": [
    "# 불러오기\n",
    "import csv\n",
    "\n",
    "with open('../data/word_set.csv', 'r', newline='') as f:\n",
    "    reader = csv.reader(f)\n",
    "    word_set2 = list(reader)\n",
    "\n",
    "with open('../data/word_lis.csv', 'r', newline='') as f:\n",
    "    reader = csv.reader(f)\n",
    "    word_lis2 = list(reader)\n",
    "\n",
    "# 첫 번째 내부 리스트를 가져옴\n",
    "word_set = word_set2[0]\n",
    "\n",
    "# 두 번째 내부 리스트를 가져옴\n",
    "word_lis = word_lis2[0]"
   ]
  },
  {
   "cell_type": "code",
   "execution_count": 48,
   "metadata": {},
   "outputs": [
    {
     "name": "stderr",
     "output_type": "stream",
     "text": [
      " 28%|██▊       | 26373/95272 [58:12<3:24:52,  5.60it/s]"
     ]
    }
   ],
   "source": [
    "tag_dict = {}\n",
    "\n",
    "for item in tqdm(word_set):\n",
    "  tag_dict[item] = word_lis.count(item)\n",
    "\n",
    "# tag_dict = {item:tag_list.count(item) for item in tag_set}\n",
    "tag_dict"
   ]
  },
  {
   "cell_type": "code",
   "execution_count": null,
   "metadata": {},
   "outputs": [],
   "source": [
    "count = 0\n",
    "for key, val in tag_dict.items():\n",
    "  print(key, ':', val)\n",
    "  count += 1\n",
    "  if count > 5:\n",
    "    break"
   ]
  },
  {
   "attachments": {},
   "cell_type": "markdown",
   "metadata": {},
   "source": [
    "### 3. 워드클라우드 만들기"
   ]
  },
  {
   "cell_type": "code",
   "execution_count": null,
   "metadata": {},
   "outputs": [],
   "source": [
    "from wordcloud import WordCloud\n",
    "\n",
    "font_path = '/usr/share/fonts/truetype/nanum/NanumBarunGothic.ttf'\n",
    "\n",
    "wc = WordCloud(background_color = 'white', random_state = 2023, font_path = font_path)\n",
    "wc = wc.generate_from_frequencies(tag_dict)"
   ]
  },
  {
   "cell_type": "code",
   "execution_count": null,
   "metadata": {},
   "outputs": [],
   "source": [
    "import matplotlib.pyplot as plt\n",
    "\n",
    "plt.figure(figsize = (10,6))\n",
    "plt.imshow(wc, interpolation = 'bilinear')\n",
    "plt.axis('off')\n",
    "plt.show()"
   ]
  },
  {
   "cell_type": "code",
   "execution_count": null,
   "metadata": {},
   "outputs": [],
   "source": [
    "import numpy as np\n",
    "\n",
    "# 그림 위에 표시\n",
    "mask = np.array(Image.open('../data/camera_icon.png'))\n",
    "plt.imshow(mask, cmap = plt.cm.gray, interpolation = 'bilinear')\n",
    "plt.axis('off')\n",
    "plt.show()"
   ]
  },
  {
   "cell_type": "code",
   "execution_count": null,
   "metadata": {},
   "outputs": [],
   "source": [
    "wc = WordCloud(background_color = 'white', mask = mask, max_words = 1000, font_path = font_path).generate(tag_dict)\n",
    "plt.figure(figsize = (12,8))     \n",
    "plt.imshow(wc, interpolation = 'bilinear')\n",
    "plt.axis('off')\n",
    "plt.show()"
   ]
  }
 ],
 "metadata": {
  "kernelspec": {
   "display_name": "Python 3",
   "language": "python",
   "name": "python3"
  },
  "language_info": {
   "codemirror_mode": {
    "name": "ipython",
    "version": 3
   },
   "file_extension": ".py",
   "mimetype": "text/x-python",
   "name": "python",
   "nbconvert_exporter": "python",
   "pygments_lexer": "ipython3",
   "version": "3.11.0"
  },
  "orig_nbformat": 4
 },
 "nbformat": 4,
 "nbformat_minor": 2
}
